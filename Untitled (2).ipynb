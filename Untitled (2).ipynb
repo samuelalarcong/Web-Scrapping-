{
 "cells": [
  {
   "cell_type": "code",
   "execution_count": null,
   "id": "3fa1b7cc-1ec1-4185-9dfa-e571290f5354",
   "metadata": {
    "tags": []
   },
   "outputs": [],
   "source": [
    "!pip install yfinance==0.2.4\n",
    "!pip install pandas==1.3.3\n",
    "# Upgrade pip to the latest version\n",
    "!python -m pip install --upgrade pip\n",
    "\n",
    "# Install necessary packages using the --user flag\n",
    "!pip install yfinance==0.2.4 --user\n",
    "!pip install pandas==1.3.3 --user"
   ]
  },
  {
   "cell_type": "markdown",
   "id": "625f9f8c-40b0-4535-bc69-436f884b947a",
   "metadata": {},
   "source": [
    "Question 1 - Extracting Tesla Stock Data Using yfinance - 2 Points"
   ]
  },
  {
   "cell_type": "code",
   "execution_count": null,
   "id": "900a47d5-e6cb-4a51-b61f-6a594d835774",
   "metadata": {
    "tags": []
   },
   "outputs": [],
   "source": [
    "# Import libraries\n",
    "import yfinance as yf\n",
    "import pandas as pd\n",
    "# Fetch data for Apple\n",
    "tesla = yf.Ticker(\"TSLA\")\n",
    "# Get historical market data\n",
    "tesla_data = tesla.history(period=\"max\")\n",
    "# Display the first few rows of the data\n",
    "print(apple_data.head())"
   ]
  },
  {
   "cell_type": "markdown",
   "id": "156380b1-7bf9-4977-b773-3a75076b6cb8",
   "metadata": {},
   "source": [
    "Question 2 - Extracting Tesla Revenue Data Using Webscraping - 1 Points"
   ]
  },
  {
   "cell_type": "code",
   "execution_count": 43,
   "id": "732b9728-ea95-4f8a-a912-444957a1e972",
   "metadata": {
    "tags": []
   },
   "outputs": [
    {
     "name": "stdout",
     "output_type": "stream",
     "text": [
      "          Date  Revenue\n",
      "48  2010-09-30     31.0\n",
      "49  2010-06-30     28.0\n",
      "50  2010-03-31     21.0\n",
      "52  2009-09-30     46.0\n",
      "53  2009-06-30     27.0\n"
     ]
    }
   ],
   "source": [
    "import requests\n",
    "from bs4 import BeautifulSoup\n",
    "import pandas as pd\n",
    "\n",
    "# Step 1: Download the webpage\n",
    "url = 'https://cf-courses-data.s3.us.cloud-object-storage.appdomain.cloud/IBMDeveloperSkillsNetwork-PY0220EN-SkillsNetwork/labs/project/revenue.htm'\n",
    "response = requests.get(url)\n",
    "\n",
    "# Check if the request was successful\n",
    "if response.status_code == 200:\n",
    "    html_data = response.content\n",
    "    \n",
    "    # Step 2: Parse the HTML\n",
    "    soup = BeautifulSoup(html_data, 'html.parser')\n",
    "    \n",
    "    # Step 3: Find all tables\n",
    "    tables = soup.find_all('table')\n",
    "    \n",
    "    # Step 4: Identify the relevant table\n",
    "    for table in tables:\n",
    "        if \"Tesla Quarterly Revenue\" in table.text:\n",
    "            # Step 5: Initialize a DataFrame\n",
    "            tesla_revenue = pd.DataFrame(columns=[\"Date\", \"Revenue\"])\n",
    "            \n",
    "            # Step 6: Loop through rows\n",
    "            rows = table.find_all('tr')\n",
    "            for row in rows:\n",
    "                cols = row.find_all('td')\n",
    "                if len(cols) == 2:  # Ensure it's a data row with two columns\n",
    "                    date = cols[0].text.strip()\n",
    "                    revenue = cols[1].text.strip().replace(',', '').replace('$', '')\n",
    "                    \n",
    "                    # Step 7: Add rows to DataFrame\n",
    "                    tesla_revenue = tesla_revenue.append({\"Date\": date, \"Revenue\": revenue}, ignore_index=True)\n",
    "            \n",
    "            # Step 8: Clean DataFrame\n",
    "            tesla_revenue['Revenue'] = pd.to_numeric(tesla_revenue['Revenue'], errors='coerce')\n",
    "            tesla_revenue.dropna(inplace=True)\n",
    "            \n",
    "            break  # Exit loop once the relevant table is processed\n",
    "\n",
    "    # Print the DataFrame\n",
    "    print(tesla_revenue.tail())\n",
    "\n",
    "else:\n",
    "    print(\"Failed to retrieve the webpage.\")\n"
   ]
  },
  {
   "cell_type": "markdown",
   "id": "329c92b1-ffec-4ecd-a671-800a6213f580",
   "metadata": {},
   "source": [
    "Question 3 - Extracting GameStop Stock Data Using yfinance - 2 Points"
   ]
  },
  {
   "cell_type": "code",
   "execution_count": 44,
   "id": "f805b185-aed7-4d54-826f-3df88c41480a",
   "metadata": {
    "tags": []
   },
   "outputs": [
    {
     "name": "stdout",
     "output_type": "stream",
     "text": [
      "                               Open      High       Low     Close    Volume  \\\n",
      "Date                                                                          \n",
      "2002-02-13 00:00:00-05:00  1.620128  1.693350  1.603296  1.691666  76216000   \n",
      "2002-02-14 00:00:00-05:00  1.712707  1.716074  1.670626  1.683251  11021600   \n",
      "2002-02-15 00:00:00-05:00  1.683250  1.687458  1.658002  1.674834   8389600   \n",
      "2002-02-19 00:00:00-05:00  1.666418  1.666418  1.578047  1.607504   7410400   \n",
      "2002-02-20 00:00:00-05:00  1.615920  1.662210  1.603296  1.662210   6892800   \n",
      "\n",
      "                           Dividends  Stock Splits  \n",
      "Date                                                \n",
      "2002-02-13 00:00:00-05:00        0.0           0.0  \n",
      "2002-02-14 00:00:00-05:00        0.0           0.0  \n",
      "2002-02-15 00:00:00-05:00        0.0           0.0  \n",
      "2002-02-19 00:00:00-05:00        0.0           0.0  \n",
      "2002-02-20 00:00:00-05:00        0.0           0.0  \n"
     ]
    }
   ],
   "source": [
    "# Import libraries\n",
    "import yfinance as yf\n",
    "import pandas as pd\n",
    "\n",
    "# Fetch data for Apple\n",
    "game = yf.Ticker(\"GME\")\n",
    "\n",
    "# Get historical market data\n",
    "game_data = game.history(period=\"max\")\n",
    "\n",
    "# Display the first few rows of the data\n",
    "print(game_data.head())"
   ]
  },
  {
   "cell_type": "markdown",
   "id": "56065e15-c9cb-4208-bf89-9915a0d2313e",
   "metadata": {},
   "source": [
    "Question 4 - Extracting GameStop Revenue Data Using Webscraping - 1 Points"
   ]
  },
  {
   "cell_type": "code",
   "execution_count": 45,
   "id": "d090bcaf-e623-4c12-b7d1-09ed1abf7a92",
   "metadata": {
    "tags": []
   },
   "outputs": [
    {
     "name": "stdout",
     "output_type": "stream",
     "text": [
      "          Date  Revenue\n",
      "48  2010-09-30     31.0\n",
      "49  2010-06-30     28.0\n",
      "50  2010-03-31     21.0\n",
      "52  2009-09-30     46.0\n",
      "53  2009-06-30     27.0\n"
     ]
    }
   ],
   "source": [
    "import requests\n",
    "from bs4 import BeautifulSoup\n",
    "import pandas as pd\n",
    "\n",
    "# Step 1: Download the webpage\n",
    "url = 'https://cf-courses-data.s3.us.cloud-object-storage.appdomain.cloud/IBMDeveloperSkillsNetwork-PY0220EN-SkillsNetwork/labs/project/stock.html'\n",
    "response = requests.get(url)\n",
    "\n",
    "# Check if the request was successful\n",
    "if response.status_code == 200:\n",
    "    html_data = response.content\n",
    "    \n",
    "    # Step 2: Parse the HTML\n",
    "    soup = BeautifulSoup(html_data, 'html.parser')\n",
    "    \n",
    "    # Step 3: Find all tables\n",
    "    tables = soup.find_all('table')\n",
    "    \n",
    "    # Step 4: Identify the relevant table\n",
    "    for table in tables:\n",
    "        if \"GameStop Quarterly Revenue\" in table.text:\n",
    "            # Step 5: Initialize a DataFrame\n",
    "            game_revenue = pd.DataFrame(columns=[\"Date\", \"Revenue\"])\n",
    "            \n",
    "            # Step 6: Loop through rows\n",
    "            rows = table.find_all('tr')\n",
    "            for row in rows:\n",
    "                cols = row.find_all('td')\n",
    "                if len(cols) == 2:  # Ensure it's a data row with two columns\n",
    "                    date = cols[0].text.strip()\n",
    "                    revenue = cols[1].text.strip().replace(',', '').replace('$', '')\n",
    "                    \n",
    "                    # Step 7: Add rows to DataFrame\n",
    "                    game_revenue = game_revenue.append({\"Date\": date, \"Revenue\": revenue}, ignore_index=True)\n",
    "            \n",
    "            # Step 8: Clean DataFrame\n",
    "            game_revenue['Revenue'] = pd.to_numeric(game_revenue['Revenue'], errors='coerce')\n",
    "            game_revenue.dropna(inplace=True)\n",
    "            \n",
    "            break  # Exit loop once the relevant table is processed\n",
    "\n",
    "    # Print the DataFrame\n",
    "    print(tesla_revenue.tail())\n",
    "else:\n",
    "    print(\"Failed to retrieve the webpage.\")\n",
    "\n",
    "\n"
   ]
  },
  {
   "cell_type": "markdown",
   "id": "49b374a1-30e6-45eb-8e5a-a739492bdc4b",
   "metadata": {},
   "source": [
    "Question 5 - Tesla Stock and Revenue Dashboard - 2 Points"
   ]
  },
  {
   "cell_type": "code",
   "execution_count": 46,
   "id": "cbe30ded-2c0e-47a0-af90-2e98f01bd451",
   "metadata": {
    "tags": []
   },
   "outputs": [
    {
     "data": {
      "image/png": "[encoded data removed]",
      "text/plain": [
       "<Figure size 1200x600 with 1 Axes>"
      ]
     },
     "metadata": {},
     "output_type": "display_data"
    }
   ],
   "source": [
    "# Plotting the closing price of Tesla\n",
    "import matplotlib.pyplot as plt\n",
    "plt.figure(figsize=(12, 6))\n",
    "plt.plot(tesla_data.index, tesla_data['Close'], label='Close Price')\n",
    "plt.title('Tesla (TSLA) Stock Price')\n",
    "plt.xlabel('Date')\n",
    "plt.ylabel('Price (USD)')\n",
    "plt.legend()\n",
    "plt.grid(True)\n",
    "plt.show()"
   ]
  },
  {
   "cell_type": "code",
   "execution_count": null,
   "id": "902b8dd2-aa7a-432f-a2a3-e226d66da392",
   "metadata": {
    "tags": []
   },
   "outputs": [],
   "source": [
    "# Plotting the Reveneu of Tesla\n",
    "import matplotlib.pyplot as plt\n",
    "plt.figure(figsize=(12, 6))\n",
    "plt.plot(tesla_revenue.index, tesla_revenue['Revenue'], label='Reveneu')\n",
    "plt.title('Tesla (TSLA) Reveneu')\n",
    "plt.xlabel('Date')\n",
    "plt.ylabel('Price (USD)')\n",
    "plt.legend()\n",
    "plt.grid(True)\n",
    "plt.show()"
   ]
  },
  {
   "cell_type": "markdown",
   "id": "923243ff-ec96-406d-a474-f261196a949b",
   "metadata": {},
   "source": [
    "Question 6 - GameStop Stock and Revenue Dashboard- 2 Points"
   ]
  },
  {
   "cell_type": "code",
   "execution_count": null,
   "id": "0e04818b-19f2-40e3-9f6b-0b13a157fc4f",
   "metadata": {
    "tags": []
   },
   "outputs": [],
   "source": [
    "# Plotting the closing price of GameStop\n",
    "plt.figure(figsize=(12, 6))\n",
    "plt.plot(game_data.index, game_data['Close'], label='Close Price', color='b')\n",
    "plt.title('GameStop (GME) Stock Price')\n",
    "plt.xlabel('Date')\n",
    "plt.ylabel('Price (USD)')\n",
    "plt.legend()\n",
    "plt.grid(True)\n",
    "plt.show()"
   ]
  },
  {
   "cell_type": "code",
   "execution_count": null,
   "id": "44671617-d7e2-4568-a374-41852321cbe4",
   "metadata": {
    "tags": []
   },
   "outputs": [],
   "source": [
    "# Plotting the Reveneu of Game Stop \n",
    "import matplotlib.pyplot as plt\n",
    "plt.figure(figsize=(12, 6))\n",
    "plt.plot(game_revenue.index, game_revenue['Revenue'], label='Reveneu')\n",
    "plt.title('Game Stop Reveneu')\n",
    "plt.xlabel('Date')\n",
    "plt.ylabel('Price (USD)')\n",
    "plt.legend()\n",
    "plt.grid(True)\n",
    "plt.show()"
   ]
  },
  {
   "cell_type": "code",
   "execution_count": null,
   "id": "d3fc65f8-17b5-4278-a6ab-71ebf6cfe673",
   "metadata": {},
   "outputs": [],
   "source": []
  },
  {
   "cell_type": "code",
   "execution_count": null,
   "id": "3af1b3b4-237f-45b2-85b7-ec6ce3894efc",
   "metadata": {},
   "outputs": [],
   "source": []
  },
  {
   "cell_type": "code",
   "execution_count": null,
   "id": "af0bb268-2491-40f2-a22a-0930d7793b47",
   "metadata": {},
   "outputs": [],
   "source": []
  }
 ],
 "metadata": {
  "kernelspec": {
   "display_name": "Python",
   "language": "python",
   "name": "conda-env-python-py"
  },
  "language_info": {
   "codemirror_mode": {
    "name": "ipython",
    "version": 3
   },
   "file_extension": ".py",
   "mimetype": "text/x-python",
   "name": "python",
   "nbconvert_exporter": "python",
   "pygments_lexer": "ipython3",
   "version": "3.7.12"
  }
 },
 "nbformat": 4,
 "nbformat_minor": 5
}
